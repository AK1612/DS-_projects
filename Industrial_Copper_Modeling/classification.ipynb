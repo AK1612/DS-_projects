{
 "cells": [
  {
   "cell_type": "code",
   "execution_count": 1,
   "metadata": {},
   "outputs": [
    {
     "name": "stderr",
     "output_type": "stream",
     "text": [
      "<>:2: SyntaxWarning: invalid escape sequence '\\p'\n",
      "<>:2: SyntaxWarning: invalid escape sequence '\\p'\n",
      "C:\\Users\\SHREE\\AppData\\Local\\Temp\\ipykernel_13760\\1442337857.py:2: SyntaxWarning: invalid escape sequence '\\p'\n",
      "  df=pd.read_csv(\"E:\\python\\Copper_Set.xlsx - Result 1.csv\")\n",
      "C:\\Users\\SHREE\\AppData\\Local\\Temp\\ipykernel_13760\\1442337857.py:2: DtypeWarning: Columns (2) have mixed types. Specify dtype option on import or set low_memory=False.\n",
      "  df=pd.read_csv(\"E:\\python\\Copper_Set.xlsx - Result 1.csv\")\n"
     ]
    }
   ],
   "source": [
    "import pandas as pd\n",
    "df=pd.read_csv(\"E:\\python\\Copper_Set.xlsx - Result 1.csv\")\n"
   ]
  },
  {
   "cell_type": "code",
   "execution_count": 2,
   "metadata": {},
   "outputs": [
    {
     "data": {
      "text/plain": [
       "Index(['id', 'item_date', 'quantity tons', 'customer', 'country', 'status',\n",
       "       'item type', 'application', 'thickness', 'width', 'material_ref',\n",
       "       'product_ref', 'delivery date', 'selling_price'],\n",
       "      dtype='object')"
      ]
     },
     "execution_count": 2,
     "metadata": {},
     "output_type": "execute_result"
    }
   ],
   "source": [
    "df.columns"
   ]
  },
  {
   "cell_type": "code",
   "execution_count": 3,
   "metadata": {},
   "outputs": [],
   "source": [
    "columns=['material_ref','id','delivery date','application','item_date','product_ref']\n",
    "df=df.drop(columns,axis=1)"
   ]
  },
  {
   "cell_type": "code",
   "execution_count": 4,
   "metadata": {},
   "outputs": [
    {
     "data": {
      "text/plain": [
       "status\n",
       "Won                116010\n",
       "Lost                34438\n",
       "Not lost for AM     19573\n",
       "Revised              4276\n",
       "To be approved       4170\n",
       "Draft                3140\n",
       "Offered                53\n",
       "Offerable              10\n",
       "Wonderful               1\n",
       "Name: count, dtype: int64"
      ]
     },
     "execution_count": 4,
     "metadata": {},
     "output_type": "execute_result"
    }
   ],
   "source": [
    "df['status'].value_counts()"
   ]
  },
  {
   "cell_type": "code",
   "execution_count": 5,
   "metadata": {},
   "outputs": [],
   "source": [
    "df = df[df['status'].isin([\"Won\", \"Lost\"])]"
   ]
  },
  {
   "cell_type": "code",
   "execution_count": 6,
   "metadata": {},
   "outputs": [
    {
     "data": {
      "text/plain": [
       "quantity tons    0\n",
       "customer         1\n",
       "country          4\n",
       "status           0\n",
       "item type        0\n",
       "thickness        0\n",
       "width            0\n",
       "selling_price    1\n",
       "dtype: int64"
      ]
     },
     "execution_count": 6,
     "metadata": {},
     "output_type": "execute_result"
    }
   ],
   "source": [
    "df.isna().sum()"
   ]
  },
  {
   "cell_type": "code",
   "execution_count": 7,
   "metadata": {},
   "outputs": [],
   "source": [
    "df=df.dropna()"
   ]
  },
  {
   "cell_type": "code",
   "execution_count": 8,
   "metadata": {},
   "outputs": [
    {
     "data": {
      "text/plain": [
       "quantity tons    0\n",
       "customer         0\n",
       "country          0\n",
       "status           0\n",
       "item type        0\n",
       "thickness        0\n",
       "width            0\n",
       "selling_price    0\n",
       "dtype: int64"
      ]
     },
     "execution_count": 8,
     "metadata": {},
     "output_type": "execute_result"
    }
   ],
   "source": [
    "df.isna().sum()"
   ]
  },
  {
   "cell_type": "code",
   "execution_count": 9,
   "metadata": {},
   "outputs": [
    {
     "data": {
      "text/plain": [
       "item type\n",
       "W         91953\n",
       "S         52462\n",
       "PL         5032\n",
       "WI          504\n",
       "Others      463\n",
       "IPL          27\n",
       "SLAWR         1\n",
       "Name: count, dtype: int64"
      ]
     },
     "execution_count": 9,
     "metadata": {},
     "output_type": "execute_result"
    }
   ],
   "source": [
    "df['item type'].value_counts()"
   ]
  },
  {
   "cell_type": "code",
   "execution_count": 10,
   "metadata": {},
   "outputs": [],
   "source": [
    "df=df[df['item type'].isin(['W','S'])]"
   ]
  },
  {
   "cell_type": "code",
   "execution_count": 11,
   "metadata": {},
   "outputs": [
    {
     "data": {
      "text/plain": [
       "item type\n",
       "W    91953\n",
       "S    52462\n",
       "Name: count, dtype: int64"
      ]
     },
     "execution_count": 11,
     "metadata": {},
     "output_type": "execute_result"
    }
   ],
   "source": [
    "df['item type'].value_counts()"
   ]
  },
  {
   "cell_type": "code",
   "execution_count": 12,
   "metadata": {},
   "outputs": [],
   "source": [
    "df=pd.get_dummies(df,columns=['item type'],dtype='int')"
   ]
  },
  {
   "cell_type": "code",
   "execution_count": 13,
   "metadata": {},
   "outputs": [
    {
     "name": "stderr",
     "output_type": "stream",
     "text": [
      "C:\\Users\\SHREE\\AppData\\Local\\Temp\\ipykernel_13760\\245628710.py:1: FutureWarning: A value is trying to be set on a copy of a DataFrame or Series through chained assignment using an inplace method.\n",
      "The behavior will change in pandas 3.0. This inplace method will never work because the intermediate object on which we are setting values always behaves as a copy.\n",
      "\n",
      "For example, when doing 'df[col].method(value, inplace=True)', try using 'df.method({col: value}, inplace=True)' or df[col] = df[col].method(value) instead, to perform the operation inplace on the original object.\n",
      "\n",
      "\n",
      "  df['status'].replace(['Won', 'Lost'],[1,0],inplace=True)\n",
      "C:\\Users\\SHREE\\AppData\\Local\\Temp\\ipykernel_13760\\245628710.py:1: FutureWarning: Downcasting behavior in `replace` is deprecated and will be removed in a future version. To retain the old behavior, explicitly call `result.infer_objects(copy=False)`. To opt-in to the future behavior, set `pd.set_option('future.no_silent_downcasting', True)`\n",
      "  df['status'].replace(['Won', 'Lost'],[1,0],inplace=True)\n"
     ]
    }
   ],
   "source": [
    "df['status'].replace(['Won', 'Lost'],[1,0],inplace=True)"
   ]
  },
  {
   "cell_type": "code",
   "execution_count": 14,
   "metadata": {},
   "outputs": [
    {
     "data": {
      "text/html": [
       "<div>\n",
       "<style scoped>\n",
       "    .dataframe tbody tr th:only-of-type {\n",
       "        vertical-align: middle;\n",
       "    }\n",
       "\n",
       "    .dataframe tbody tr th {\n",
       "        vertical-align: top;\n",
       "    }\n",
       "\n",
       "    .dataframe thead th {\n",
       "        text-align: right;\n",
       "    }\n",
       "</style>\n",
       "<table border=\"1\" class=\"dataframe\">\n",
       "  <thead>\n",
       "    <tr style=\"text-align: right;\">\n",
       "      <th></th>\n",
       "      <th>quantity tons</th>\n",
       "      <th>customer</th>\n",
       "      <th>country</th>\n",
       "      <th>status</th>\n",
       "      <th>thickness</th>\n",
       "      <th>width</th>\n",
       "      <th>selling_price</th>\n",
       "      <th>item type_S</th>\n",
       "      <th>item type_W</th>\n",
       "    </tr>\n",
       "  </thead>\n",
       "  <tbody>\n",
       "    <tr>\n",
       "      <th>0</th>\n",
       "      <td>54.151139</td>\n",
       "      <td>30156308.0</td>\n",
       "      <td>28.0</td>\n",
       "      <td>1</td>\n",
       "      <td>2.00</td>\n",
       "      <td>1500.0</td>\n",
       "      <td>854.0</td>\n",
       "      <td>0</td>\n",
       "      <td>1</td>\n",
       "    </tr>\n",
       "    <tr>\n",
       "      <th>1</th>\n",
       "      <td>768.024839</td>\n",
       "      <td>30202938.0</td>\n",
       "      <td>25.0</td>\n",
       "      <td>1</td>\n",
       "      <td>0.80</td>\n",
       "      <td>1210.0</td>\n",
       "      <td>1047.0</td>\n",
       "      <td>0</td>\n",
       "      <td>1</td>\n",
       "    </tr>\n",
       "    <tr>\n",
       "      <th>3</th>\n",
       "      <td>202.411065</td>\n",
       "      <td>30349574.0</td>\n",
       "      <td>32.0</td>\n",
       "      <td>1</td>\n",
       "      <td>2.30</td>\n",
       "      <td>1317.0</td>\n",
       "      <td>768.0</td>\n",
       "      <td>1</td>\n",
       "      <td>0</td>\n",
       "    </tr>\n",
       "    <tr>\n",
       "      <th>4</th>\n",
       "      <td>785.526262</td>\n",
       "      <td>30211560.0</td>\n",
       "      <td>28.0</td>\n",
       "      <td>1</td>\n",
       "      <td>4.00</td>\n",
       "      <td>2000.0</td>\n",
       "      <td>577.0</td>\n",
       "      <td>0</td>\n",
       "      <td>1</td>\n",
       "    </tr>\n",
       "    <tr>\n",
       "      <th>5</th>\n",
       "      <td>225.790676</td>\n",
       "      <td>30202938.0</td>\n",
       "      <td>25.0</td>\n",
       "      <td>1</td>\n",
       "      <td>1.50</td>\n",
       "      <td>1265.0</td>\n",
       "      <td>983.0</td>\n",
       "      <td>0</td>\n",
       "      <td>1</td>\n",
       "    </tr>\n",
       "    <tr>\n",
       "      <th>...</th>\n",
       "      <td>...</td>\n",
       "      <td>...</td>\n",
       "      <td>...</td>\n",
       "      <td>...</td>\n",
       "      <td>...</td>\n",
       "      <td>...</td>\n",
       "      <td>...</td>\n",
       "      <td>...</td>\n",
       "      <td>...</td>\n",
       "    </tr>\n",
       "    <tr>\n",
       "      <th>181668</th>\n",
       "      <td>102.4824216</td>\n",
       "      <td>30200854.0</td>\n",
       "      <td>25.0</td>\n",
       "      <td>1</td>\n",
       "      <td>0.96</td>\n",
       "      <td>1220.0</td>\n",
       "      <td>591.0</td>\n",
       "      <td>0</td>\n",
       "      <td>1</td>\n",
       "    </tr>\n",
       "    <tr>\n",
       "      <th>181669</th>\n",
       "      <td>208.0864686</td>\n",
       "      <td>30200854.0</td>\n",
       "      <td>25.0</td>\n",
       "      <td>1</td>\n",
       "      <td>0.95</td>\n",
       "      <td>1500.0</td>\n",
       "      <td>589.0</td>\n",
       "      <td>0</td>\n",
       "      <td>1</td>\n",
       "    </tr>\n",
       "    <tr>\n",
       "      <th>181670</th>\n",
       "      <td>4.235593568</td>\n",
       "      <td>30200854.0</td>\n",
       "      <td>25.0</td>\n",
       "      <td>1</td>\n",
       "      <td>0.71</td>\n",
       "      <td>1250.0</td>\n",
       "      <td>619.0</td>\n",
       "      <td>0</td>\n",
       "      <td>1</td>\n",
       "    </tr>\n",
       "    <tr>\n",
       "      <th>181671</th>\n",
       "      <td>-2000</td>\n",
       "      <td>30200854.0</td>\n",
       "      <td>25.0</td>\n",
       "      <td>1</td>\n",
       "      <td>0.85</td>\n",
       "      <td>1250.0</td>\n",
       "      <td>601.0</td>\n",
       "      <td>0</td>\n",
       "      <td>1</td>\n",
       "    </tr>\n",
       "    <tr>\n",
       "      <th>181672</th>\n",
       "      <td>406.6865384</td>\n",
       "      <td>30200854.0</td>\n",
       "      <td>25.0</td>\n",
       "      <td>1</td>\n",
       "      <td>0.71</td>\n",
       "      <td>1240.0</td>\n",
       "      <td>607.0</td>\n",
       "      <td>0</td>\n",
       "      <td>1</td>\n",
       "    </tr>\n",
       "  </tbody>\n",
       "</table>\n",
       "<p>144415 rows × 9 columns</p>\n",
       "</div>"
      ],
      "text/plain": [
       "       quantity tons    customer  country  status  thickness   width  \\\n",
       "0          54.151139  30156308.0     28.0       1       2.00  1500.0   \n",
       "1         768.024839  30202938.0     25.0       1       0.80  1210.0   \n",
       "3         202.411065  30349574.0     32.0       1       2.30  1317.0   \n",
       "4         785.526262  30211560.0     28.0       1       4.00  2000.0   \n",
       "5         225.790676  30202938.0     25.0       1       1.50  1265.0   \n",
       "...              ...         ...      ...     ...        ...     ...   \n",
       "181668   102.4824216  30200854.0     25.0       1       0.96  1220.0   \n",
       "181669   208.0864686  30200854.0     25.0       1       0.95  1500.0   \n",
       "181670   4.235593568  30200854.0     25.0       1       0.71  1250.0   \n",
       "181671         -2000  30200854.0     25.0       1       0.85  1250.0   \n",
       "181672   406.6865384  30200854.0     25.0       1       0.71  1240.0   \n",
       "\n",
       "        selling_price  item type_S  item type_W  \n",
       "0               854.0            0            1  \n",
       "1              1047.0            0            1  \n",
       "3               768.0            1            0  \n",
       "4               577.0            0            1  \n",
       "5               983.0            0            1  \n",
       "...               ...          ...          ...  \n",
       "181668          591.0            0            1  \n",
       "181669          589.0            0            1  \n",
       "181670          619.0            0            1  \n",
       "181671          601.0            0            1  \n",
       "181672          607.0            0            1  \n",
       "\n",
       "[144415 rows x 9 columns]"
      ]
     },
     "execution_count": 14,
     "metadata": {},
     "output_type": "execute_result"
    }
   ],
   "source": [
    "df"
   ]
  },
  {
   "cell_type": "code",
   "execution_count": 15,
   "metadata": {},
   "outputs": [
    {
     "data": {
      "text/plain": [
       "quantity tons             e\n",
       "customer         30157111.0\n",
       "country                78.0\n",
       "status                    1\n",
       "thickness               0.5\n",
       "width                1000.0\n",
       "selling_price         672.0\n",
       "item type_S               0\n",
       "item type_W               1\n",
       "Name: 173086, dtype: object"
      ]
     },
     "execution_count": 15,
     "metadata": {},
     "output_type": "execute_result"
    }
   ],
   "source": [
    "row=df.loc[173086]\n",
    "row"
   ]
  },
  {
   "cell_type": "code",
   "execution_count": 16,
   "metadata": {},
   "outputs": [],
   "source": [
    "df=df.drop(index=173086)"
   ]
  },
  {
   "cell_type": "code",
   "execution_count": 17,
   "metadata": {},
   "outputs": [],
   "source": [
    "from imblearn.over_sampling import SMOTE\n",
    "from sklearn.model_selection import train_test_split\n",
    "import pandas as pd\n",
    "\n",
    "# Example dataset\n",
    "X = df.drop('status', axis=1)  # Features\n",
    "y = df['status']               # Target variable\n",
    "\n",
    "# Split the dataset into training and testing sets\n",
    "X_train, X_test, y_train, y_test = train_test_split(X, y, test_size=0.25, random_state=42)\n",
    "\n",
    "# Apply SMOTE to the training data\n",
    "smote = SMOTE(random_state=42)\n",
    "X_train_smote, y_train_smote = smote.fit_resample(X_train, y_train)"
   ]
  },
  {
   "cell_type": "code",
   "execution_count": 18,
   "metadata": {},
   "outputs": [
    {
     "name": "stderr",
     "output_type": "stream",
     "text": [
      "c:\\Users\\SHREE\\AppData\\Local\\Programs\\Python\\Python312\\Lib\\site-packages\\sklearn\\linear_model\\_logistic.py:469: ConvergenceWarning: lbfgs failed to converge (status=1):\n",
      "STOP: TOTAL NO. of ITERATIONS REACHED LIMIT.\n",
      "\n",
      "Increase the number of iterations (max_iter) or scale the data as shown in:\n",
      "    https://scikit-learn.org/stable/modules/preprocessing.html\n",
      "Please also refer to the documentation for alternative solver options:\n",
      "    https://scikit-learn.org/stable/modules/linear_model.html#logistic-regression\n",
      "  n_iter_i = _check_optimize_result(\n"
     ]
    },
    {
     "name": "stdout",
     "output_type": "stream",
     "text": [
      "******LogisticRegression********\n",
      "********Train*********\n",
      "Accuracy: 0.5871332840541424\n",
      "f1SCORE: 0.5839012237121711\n",
      "********Test*********\n",
      "Accuracy: 0.5868601816973189\n",
      "f1SCORE: 0.6828542269093383\n",
      "\n",
      "\n",
      "\n",
      "\n",
      "******KNeighborsClassifier********\n",
      "********Train*********\n",
      "Accuracy: 0.9363207832967778\n",
      "f1SCORE: 0.9341115401976027\n",
      "********Test*********\n",
      "Accuracy: 0.8623144249944604\n",
      "f1SCORE: 0.905521239190345\n",
      "\n",
      "\n",
      "\n",
      "\n",
      "******DecisionTreeClassifier********\n",
      "********Train*********\n",
      "Accuracy: 1.0\n",
      "f1SCORE: 1.0\n",
      "********Test*********\n",
      "Accuracy: 0.8894859295368934\n",
      "f1SCORE: 0.9266732826110927\n",
      "\n",
      "\n",
      "\n",
      "\n",
      "******RandomForestClassifier********\n",
      "********Train*********\n",
      "Accuracy: 1.0\n",
      "f1SCORE: 1.0\n",
      "********Test*********\n",
      "Accuracy: 0.9113117660093064\n",
      "f1SCORE: 0.9411743092298648\n",
      "\n",
      "\n",
      "\n",
      "\n",
      "******GradientBoostingClassifier********\n",
      "********Train*********\n",
      "Accuracy: 0.7827999466815312\n",
      "f1SCORE: 0.7817499939117941\n",
      "********Test*********\n",
      "Accuracy: 0.7661200974961223\n",
      "f1SCORE: 0.8356431018374338\n",
      "\n",
      "\n",
      "\n",
      "\n"
     ]
    }
   ],
   "source": [
    "from sklearn.linear_model import LogisticRegression\n",
    "from sklearn.neighbors import KNeighborsClassifier\n",
    "from sklearn.tree import DecisionTreeClassifier\n",
    "from sklearn.ensemble import RandomForestClassifier\n",
    "from sklearn.ensemble import GradientBoostingClassifier\n",
    "from sklearn.metrics import accuracy_score, precision_score, recall_score, f1_score\n",
    "\n",
    "\n",
    "\n",
    "\n",
    "\n",
    "models = [\n",
    "    LogisticRegression(),\n",
    "    KNeighborsClassifier(),\n",
    "    DecisionTreeClassifier(),\n",
    "    RandomForestClassifier(),\n",
    "    GradientBoostingClassifier()\n",
    "]\n",
    "\n",
    "for model in models:\n",
    "    model.fit(X_train_smote,y_train_smote)\n",
    "    train_prediction = model.predict(X_train_smote)\n",
    "    test_predicition = model.predict(X_test)\n",
    "\n",
    "    Accuracy=accuracy_score(y_train_smote,train_prediction)\n",
    "    Precision=precision_score(y_train_smote,train_prediction)\n",
    "    Recall=recall_score(y_train_smote,train_prediction)\n",
    "    F1=f1_score(y_train_smote,train_prediction)\n",
    "    \n",
    "    precision=precision_score(y_test,test_predicition)\n",
    "    recall= recall_score(y_test,test_predicition)\n",
    "    accuracy=accuracy_score(y_test,test_predicition)\n",
    "    f1=f1_score(y_test,test_predicition)\n",
    "    with open('regressor_model_comparison.txt','a') as f:\n",
    "        f.write('model =' + repr(model) + '\\n')\n",
    "        f.write('train' + '\\n')\n",
    "        f.write('precision ='+ repr(Precision) + '\\n')\n",
    "        f.write('recall ='+ repr(Recall) + '\\n')\n",
    "        f.write('accuracy ='+ repr(Accuracy) + '\\n')\n",
    "        f.write('f1 ='+ repr(F1) + '\\n'+'\\n')\n",
    "        f.write('test' + '\\n')\n",
    "        f.write('precision ='+ repr(precision) + '\\n')\n",
    "        f.write('recall ='+ repr(recall) + '\\n')\n",
    "        f.write('accuracy ='+ repr(accuracy) + '\\n')\n",
    "        f.write('f1 ='+ repr(f1) + '\\n')\n",
    "\n",
    "    \n",
    "    print(f\"******{type(model).__name__}********\")\n",
    "    print(f\"********Train*********\")\n",
    "    print(f\"Accuracy: {accuracy_score(y_train_smote,train_prediction)}\")\n",
    "    print(f\"f1SCORE: {f1_score(y_train_smote,train_prediction)}\")\n",
    "    print(f\"********Test*********\")\n",
    "    print(f\"Accuracy: {accuracy_score(y_test,test_predicition)}\")\n",
    "    print(f\"f1SCORE: {f1_score(y_test,test_predicition)}\")\n",
    "    print(\"\\n\\n\\n\")"
   ]
  },
  {
   "cell_type": "code",
   "execution_count": 19,
   "metadata": {},
   "outputs": [
    {
     "name": "stdout",
     "output_type": "stream",
     "text": [
      "Best parameters: {'max_depth': None, 'max_features': None, 'min_samples_split': 100, 'n_estimators': 100}\n",
      "******RandomForestClassifier********\n",
      "********Train*********\n",
      "accuracy: 0.9173563733746956\n",
      "precision: 0.9324376922594011\n",
      "Recall: 0.8999188105134326\n",
      "f1: 0.9158896946376597\n",
      "********Test*********\n",
      "accuracy: 0.8760248171947707\n",
      "precision: 0.9499336611254195\n",
      "Recall: 0.884042707728065\n",
      "f1: 0.9158045220270118\n"
     ]
    }
   ],
   "source": [
    "from sklearn.model_selection import train_test_split\n",
    "from sklearn.ensemble import RandomForestClassifier\n",
    "from sklearn.metrics import accuracy_score, precision_score, recall_score, f1_score\n",
    "from sklearn.model_selection import GridSearchCV, KFold\n",
    "\n",
    "l = RandomForestClassifier()\n",
    "    \n",
    "\n",
    "param_grid = {\n",
    "    'n_estimators': [50,100,125],\n",
    "    'max_depth': [None,5,10],\n",
    "    'min_samples_split': [100,150,200],\n",
    "    'max_features': ['sqrt','log2',None]\n",
    "}\n",
    "\n",
    "kf=KFold(n_splits=10, shuffle=False, random_state=None)\n",
    "\n",
    "grid_search = GridSearchCV(estimator = l,param_grid=param_grid,cv=kf,n_jobs=-1)\n",
    "grid_search.fit(X_train_smote,y_train_smote)\n",
    "print(f\"Best parameters: {grid_search.best_params_}\")\n",
    "model = grid_search.best_estimator_\n",
    "train_pred = model.predict(X_train_smote)\n",
    "test_pred = model.predict(X_test)\n",
    "\n",
    "Accuracy=accuracy_score(y_train_smote,train_pred)\n",
    "Precision=precision_score(y_train_smote,train_pred)\n",
    "Recall=recall_score(y_train_smote,train_pred)\n",
    "F1=f1_score(y_train_smote,train_pred)\n",
    "\n",
    "recall= recall_score(y_test,test_pred)\n",
    "precision=precision_score(y_test,test_pred)\n",
    "accuracy=accuracy_score(y_test,test_pred)\n",
    "f1=f1_score(y_test,test_pred)\n",
    "\n",
    "\n",
    "with open('random_forest_regressor_model.txt','a') as f:\n",
    "        f.write('model =' + repr(l) + '\\n')\n",
    "        f.write('best_parameters =' + repr(grid_search.best_estimator_) + '\\n')\n",
    "        f.write('version = 1')\n",
    "        f.write('train' + '\\n')\n",
    "        f.write('precision ='+ repr(Precision) + '\\n')\n",
    "        f.write('recall ='+ repr(Recall) + '\\n')\n",
    "        f.write('accuracy ='+ repr(Accuracy) + '\\n')\n",
    "        f.write('f1 ='+ repr(F1) + '\\n'+'\\n')\n",
    "        f.write('test' + '\\n')\n",
    "        f.write('precision ='+ repr(precision) + '\\n')\n",
    "        f.write('recall ='+ repr(recall) + '\\n')\n",
    "        f.write('accuracy ='+ repr(accuracy) + '\\n')\n",
    "        f.write('f1 ='+ repr(f1) + '\\n')\n",
    "\n",
    "\n",
    "\n",
    "\n",
    "\n",
    "print(f\"******{type(model).__name__}********\")\n",
    "print(f\"********Train*********\")\n",
    "print(f\"accuracy: {accuracy_score(y_train_smote,train_pred)}\")\n",
    "print(f\"precision: {precision_score(y_train_smote,train_pred)}\")\n",
    "print(f\"Recall: {recall_score(y_train_smote,train_pred)}\")\n",
    "print(f\"f1: {f1_score(y_train_smote,train_pred)}\")\n",
    "print(f\"********Test*********\")\n",
    "print(f\"accuracy: {accuracy_score(y_test,test_pred)}\")\n",
    "print(f\"precision: {precision_score(y_test,test_pred)}\")\n",
    "print(f\"Recall: {recall_score(y_test,test_pred)}\")\n",
    "print(f\"f1: {f1_score(y_test,test_pred)}\")\n"
   ]
  },
  {
   "cell_type": "code",
   "execution_count": 20,
   "metadata": {},
   "outputs": [],
   "source": [
    "import pickle\n",
    "\n",
    "with open('random_forest_classifier_model.pkl', 'wb') as file:\n",
    "    pickle.dump(model, file)\n",
    "\n",
    "\n",
    "pickle.dump(X_train_smote.columns, open('cmodel_columns.pkl', 'wb'))"
   ]
  }
 ],
 "metadata": {
  "kernelspec": {
   "display_name": "Python 3",
   "language": "python",
   "name": "python3"
  },
  "language_info": {
   "codemirror_mode": {
    "name": "ipython",
    "version": 3
   },
   "file_extension": ".py",
   "mimetype": "text/x-python",
   "name": "python",
   "nbconvert_exporter": "python",
   "pygments_lexer": "ipython3",
   "version": "3.12.2"
  }
 },
 "nbformat": 4,
 "nbformat_minor": 2
}
